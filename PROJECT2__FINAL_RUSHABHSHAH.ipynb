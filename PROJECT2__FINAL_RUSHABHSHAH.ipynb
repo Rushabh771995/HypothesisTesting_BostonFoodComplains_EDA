{
  "nbformat": 4,
  "nbformat_minor": 0,
  "metadata": {
    "kernelspec": {
      "display_name": "Python 3",
      "language": "python",
      "name": "python3"
    },
    "language_info": {
      "codemirror_mode": {
        "name": "ipython",
        "version": 3
      },
      "file_extension": ".py",
      "mimetype": "text/x-python",
      "name": "python",
      "nbconvert_exporter": "python",
      "pygments_lexer": "ipython3",
      "version": "3.7.3"
    },
    "colab": {
      "name": "Project2_final_Rushabhshah.ipynb",
      "provenance": [],
      "collapsed_sections": [
        "jQtKQyn3eGiY",
        "-dK_Le4weGif"
      ]
    }
  },
  "cells": [
    {
      "cell_type": "markdown",
      "metadata": {
        "id": "yVB-KDa1eGgO",
        "colab_type": "text"
      },
      "source": [
        "# Following are the two datasets I have used to support my hypothesis and answer some questions.\n",
        "**Data set 1**- *Food establishment inspection* \n",
        "Data Source-https://data.boston.gov/dataset/food-establishment-inspections)\n",
        "\n",
        "**Data set 2**- *Boston census tract population-2010*\n",
        "Data Source-https://factfinder.census.gov/ (table no S0101\n",
        "and the state of Massachusetts.)\n",
        "\n"
      ]
    },
    {
      "cell_type": "markdown",
      "metadata": {
        "id": "W7RT8LpFeGgR",
        "colab_type": "text"
      },
      "source": [
        "Hypothesis:\n",
        "\n",
        "1) If the population is high then there would be more food inspections and complaints. \n",
        "\n",
        "2) The complaints/inspections would be more on weekends than weekdays as there is more rush on weekends than weekdays.\n",
        "\n",
        "Question:\n",
        "\n",
        "1) Which owner is highly inspected or have more complaints reported?\n",
        "\n",
        "2) In which year most of the inspections were reported?"
      ]
    },
    {
      "cell_type": "markdown",
      "metadata": {
        "id": "tHERJsmSeGgS",
        "colab_type": "text"
      },
      "source": [
        "# Description: The Health Division of the Department of Inspectional Services ensures that all food establishments in the City of Boston meet relevant sanitary codes and standards. Businesses that serve food are inspected at least once a year, and follow-up inspections are performed on high risk establishments. Health inspections are also conducted in response to complaints of unsanitary conditions or illness. \n",
        "# FactFinder is the website by American goverment which has census data. The data is collected from surveys. Boston Census data includes data per zipcode of the city Boston.\n",
        "\n",
        "Size of Food inspection data: 228.8 MB \n",
        "\n",
        "Size of Census Data: 204.3 KB\n",
        "\n",
        "Size of jupyter notebook: 110 KB\n",
        "\n",
        "Number of rows Food inspection data :594789 \n",
        "\n",
        "Number of columns Food inspection data :26\n",
        "\n",
        "Number of rows Censu data :500 \n",
        "\n",
        "Number of columns Census data :6\n",
        "\n",
        "The data was provided by the Boston goverment data portal.\n",
        "\n",
        "Data Consistences:The Boston food establishment data was updated regularly. So, while performing the analysis, there were some inconsistencies as the new data had some missing values. Many other columns also had missing values, but as I was not going to use it I have not filled them or dropped them. There were multiple columns with date and time. The meaning of the columns was not known so ‘issdttm’ is assumed to be the column in which the inspections or complaints is reported. To see whether the complaints were uploaded bt the other organization on the data was entered when the inspection was registered graph was plot. The results of the graph shows that the majority of the complaints was reported on weekdays.  \n",
        "\n",
        "To find the owner with the maximum complaints value_count function was used. \n",
        "\n",
        "To check the number of complaints per zip code population, a new dataframe was created which had the number of complaints per zip code and the population of the zip code. The graph suggested that, the hypothesis was invalid. The graph illustrates that even in the highly populated area there were fewer complaints than with the area which had more population.\n",
        "  "
      ]
    },
    {
      "cell_type": "markdown",
      "metadata": {
        "id": "aZkf4hZxeGgT",
        "colab_type": "text"
      },
      "source": [
        "# (In)Validation of Hypotheses:\n",
        "1) It is evident from the graph plotted between number of complaints and poppulation that area with more population have less number of complaints. There is no linear relation observed between the complaints/inspection rate versus population of the area.Thus, the hypothesis is invalid\n",
        "\n",
        "2) The graph of number of inspections/complaints per week day suggest that on weekdays there were more number of complaints were reported than weekends. We can assume that these records were updated on weekdays. The dates are not the actual dates when the inspection/complaints are reported. Thus, the second hypothesis is also invalid.\n",
        "\n",
        "Note- Figure is used to provide the evidence of hypothesis."
      ]
    },
    {
      "cell_type": "markdown",
      "metadata": {
        "id": "JWZ_oO07eGgV",
        "colab_type": "text"
      },
      "source": [
        "# Answer\n",
        "1)The owner with the highest complaints/inspection rate is MCCOY RICHARD.\n",
        "\n",
        "2)In the year 2012, highest number of inspections were roprted.\n",
        "\n",
        "Note- The question is answered using the value count function."
      ]
    },
    {
      "cell_type": "code",
      "metadata": {
        "id": "uUr_kcgOeGgW",
        "colab_type": "code",
        "colab": {
          "base_uri": "https://localhost:8080/",
          "height": 70
        },
        "outputId": "8ce67be3-a7ad-49a3-bbf8-13408b156999"
      },
      "source": [
        "import pandas as pd\n",
        "import matplotlib.pyplot as plt\n",
        "import requests\n",
        "from bs4 import BeautifulSoup\n",
        "from matplotlib import pyplot as plt\n",
        "from datetime import datetime\n",
        "import seaborn as sns\n",
        "import time"
      ],
      "execution_count": 1,
      "outputs": [
        {
          "output_type": "stream",
          "text": [
            "/usr/local/lib/python3.6/dist-packages/statsmodels/tools/_testing.py:19: FutureWarning: pandas.util.testing is deprecated. Use the functions in the public API at pandas.testing instead.\n",
            "  import pandas.util.testing as tm\n"
          ],
          "name": "stderr"
        }
      ]
    },
    {
      "cell_type": "code",
      "metadata": {
        "id": "ye-RBOwueGgg",
        "colab_type": "code",
        "outputId": "64ff83db-320b-4579-83c2-61973b51df78",
        "colab": {
          "base_uri": "https://localhost:8080/",
          "height": 50
        }
      },
      "source": [
        "boston_df=pd.read_csv(\"https://data.boston.gov/dataset/03693648-2c62-4a2c-a4ec-48de2ee14e18/resource/4582bec6-2b4f-4f9e-bc55-cbaa73117f4c/download/tmpfzrcujiu.csv\")"
      ],
      "execution_count": 2,
      "outputs": [
        {
          "output_type": "stream",
          "text": [
            "/usr/local/lib/python3.6/dist-packages/IPython/core/interactiveshell.py:2718: DtypeWarning: Columns (23) have mixed types.Specify dtype option on import or set low_memory=False.\n",
            "  interactivity=interactivity, compiler=compiler, result=result)\n"
          ],
          "name": "stderr"
        }
      ]
    },
    {
      "cell_type": "code",
      "metadata": {
        "id": "Bw_Edh5OeGgm",
        "colab_type": "code",
        "outputId": "8e841453-9d57-4a46-977b-d1d6bd9b6637",
        "colab": {
          "base_uri": "https://localhost:8080/",
          "height": 534
        }
      },
      "source": [
        "boston_df.head()"
      ],
      "execution_count": 3,
      "outputs": [
        {
          "output_type": "execute_result",
          "data": {
            "text/html": [
              "<div>\n",
              "<style scoped>\n",
              "    .dataframe tbody tr th:only-of-type {\n",
              "        vertical-align: middle;\n",
              "    }\n",
              "\n",
              "    .dataframe tbody tr th {\n",
              "        vertical-align: top;\n",
              "    }\n",
              "\n",
              "    .dataframe thead th {\n",
              "        text-align: right;\n",
              "    }\n",
              "</style>\n",
              "<table border=\"1\" class=\"dataframe\">\n",
              "  <thead>\n",
              "    <tr style=\"text-align: right;\">\n",
              "      <th></th>\n",
              "      <th>businessname</th>\n",
              "      <th>dbaname</th>\n",
              "      <th>legalowner</th>\n",
              "      <th>namelast</th>\n",
              "      <th>namefirst</th>\n",
              "      <th>licenseno</th>\n",
              "      <th>issdttm</th>\n",
              "      <th>expdttm</th>\n",
              "      <th>licstatus</th>\n",
              "      <th>licensecat</th>\n",
              "      <th>descript</th>\n",
              "      <th>result</th>\n",
              "      <th>resultdttm</th>\n",
              "      <th>violation</th>\n",
              "      <th>viollevel</th>\n",
              "      <th>violdesc</th>\n",
              "      <th>violdttm</th>\n",
              "      <th>violstatus</th>\n",
              "      <th>statusdate</th>\n",
              "      <th>comments</th>\n",
              "      <th>address</th>\n",
              "      <th>city</th>\n",
              "      <th>state</th>\n",
              "      <th>zip</th>\n",
              "      <th>property_id</th>\n",
              "      <th>location</th>\n",
              "    </tr>\n",
              "  </thead>\n",
              "  <tbody>\n",
              "    <tr>\n",
              "      <th>0</th>\n",
              "      <td>100 Percent Delicia Food</td>\n",
              "      <td>NaN</td>\n",
              "      <td>BRENNAN PATRICK E</td>\n",
              "      <td>Marte</td>\n",
              "      <td>Civelis</td>\n",
              "      <td>87059</td>\n",
              "      <td>2013-04-05 12:47:23</td>\n",
              "      <td>2020-12-31 23:59:00</td>\n",
              "      <td>Active</td>\n",
              "      <td>FS</td>\n",
              "      <td>Eating &amp; Drinking</td>\n",
              "      <td>HE_Fail</td>\n",
              "      <td>2013-02-15 12:19:42</td>\n",
              "      <td>15-4-202.16</td>\n",
              "      <td>*</td>\n",
              "      <td>Non-Food Contact Surfaces</td>\n",
              "      <td>2013-02-15 12:19:42</td>\n",
              "      <td>Fail</td>\n",
              "      <td>NaN</td>\n",
              "      <td>Provide glass storage rack.</td>\n",
              "      <td>635   Hyde Park AVE</td>\n",
              "      <td>Roslindale</td>\n",
              "      <td>MA</td>\n",
              "      <td>02131</td>\n",
              "      <td>77476.0</td>\n",
              "      <td>(42.278590000, -71.119440000)</td>\n",
              "    </tr>\n",
              "    <tr>\n",
              "      <th>1</th>\n",
              "      <td>100 Percent Delicia Food</td>\n",
              "      <td>NaN</td>\n",
              "      <td>BRENNAN PATRICK E</td>\n",
              "      <td>Marte</td>\n",
              "      <td>Civelis</td>\n",
              "      <td>87059</td>\n",
              "      <td>2013-04-05 12:47:23</td>\n",
              "      <td>2020-12-31 23:59:00</td>\n",
              "      <td>Active</td>\n",
              "      <td>FS</td>\n",
              "      <td>Eating &amp; Drinking</td>\n",
              "      <td>HE_Fail</td>\n",
              "      <td>2013-02-15 12:19:42</td>\n",
              "      <td>16-4-501.11/.15</td>\n",
              "      <td>*</td>\n",
              "      <td>Dishwashng Facilities</td>\n",
              "      <td>2013-02-15 12:19:42</td>\n",
              "      <td>Fail</td>\n",
              "      <td>NaN</td>\n",
              "      <td>Provide dish rack over 3 bay sink to replace m...</td>\n",
              "      <td>635   Hyde Park AVE</td>\n",
              "      <td>Roslindale</td>\n",
              "      <td>MA</td>\n",
              "      <td>02131</td>\n",
              "      <td>77476.0</td>\n",
              "      <td>(42.278590000, -71.119440000)</td>\n",
              "    </tr>\n",
              "    <tr>\n",
              "      <th>2</th>\n",
              "      <td>100 Percent Delicia Food</td>\n",
              "      <td>NaN</td>\n",
              "      <td>BRENNAN PATRICK E</td>\n",
              "      <td>Marte</td>\n",
              "      <td>Civelis</td>\n",
              "      <td>87059</td>\n",
              "      <td>2013-04-05 12:47:23</td>\n",
              "      <td>2020-12-31 23:59:00</td>\n",
              "      <td>Active</td>\n",
              "      <td>FS</td>\n",
              "      <td>Eating &amp; Drinking</td>\n",
              "      <td>HE_Fail</td>\n",
              "      <td>2013-02-15 12:19:42</td>\n",
              "      <td>16-4-501.11/.15</td>\n",
              "      <td>*</td>\n",
              "      <td>Dishwashng Facilities</td>\n",
              "      <td>2013-02-15 12:19:42</td>\n",
              "      <td>Fail</td>\n",
              "      <td>NaN</td>\n",
              "      <td>Provide dish washer at ware washing area.</td>\n",
              "      <td>635   Hyde Park AVE</td>\n",
              "      <td>Roslindale</td>\n",
              "      <td>MA</td>\n",
              "      <td>02131</td>\n",
              "      <td>77476.0</td>\n",
              "      <td>(42.278590000, -71.119440000)</td>\n",
              "    </tr>\n",
              "    <tr>\n",
              "      <th>3</th>\n",
              "      <td>100 Percent Delicia Food</td>\n",
              "      <td>NaN</td>\n",
              "      <td>BRENNAN PATRICK E</td>\n",
              "      <td>Marte</td>\n",
              "      <td>Civelis</td>\n",
              "      <td>87059</td>\n",
              "      <td>2013-04-05 12:47:23</td>\n",
              "      <td>2020-12-31 23:59:00</td>\n",
              "      <td>Active</td>\n",
              "      <td>FS</td>\n",
              "      <td>Eating &amp; Drinking</td>\n",
              "      <td>HE_Fail</td>\n",
              "      <td>2013-02-15 12:19:42</td>\n",
              "      <td>29-5-201/02.11</td>\n",
              "      <td>*</td>\n",
              "      <td>Installed and Maintained</td>\n",
              "      <td>2013-02-15 12:19:42</td>\n",
              "      <td>Fail</td>\n",
              "      <td>NaN</td>\n",
              "      <td>Provide mop sink at basement.</td>\n",
              "      <td>635   Hyde Park AVE</td>\n",
              "      <td>Roslindale</td>\n",
              "      <td>MA</td>\n",
              "      <td>02131</td>\n",
              "      <td>77476.0</td>\n",
              "      <td>(42.278590000, -71.119440000)</td>\n",
              "    </tr>\n",
              "    <tr>\n",
              "      <th>4</th>\n",
              "      <td>100 Percent Delicia Food</td>\n",
              "      <td>NaN</td>\n",
              "      <td>BRENNAN PATRICK E</td>\n",
              "      <td>Marte</td>\n",
              "      <td>Civelis</td>\n",
              "      <td>87059</td>\n",
              "      <td>2013-04-05 12:47:23</td>\n",
              "      <td>2020-12-31 23:59:00</td>\n",
              "      <td>Active</td>\n",
              "      <td>FS</td>\n",
              "      <td>Eating &amp; Drinking</td>\n",
              "      <td>HE_Fail</td>\n",
              "      <td>2013-02-15 12:19:42</td>\n",
              "      <td>31-5-204/05.11</td>\n",
              "      <td>***</td>\n",
              "      <td>Location  Accessible</td>\n",
              "      <td>2013-02-15 12:19:42</td>\n",
              "      <td>Fail</td>\n",
              "      <td>NaN</td>\n",
              "      <td>No hand sink at Bar Area  provide.</td>\n",
              "      <td>635   Hyde Park AVE</td>\n",
              "      <td>Roslindale</td>\n",
              "      <td>MA</td>\n",
              "      <td>02131</td>\n",
              "      <td>77476.0</td>\n",
              "      <td>(42.278590000, -71.119440000)</td>\n",
              "    </tr>\n",
              "  </tbody>\n",
              "</table>\n",
              "</div>"
            ],
            "text/plain": [
              "               businessname dbaname  ... property_id                       location\n",
              "0  100 Percent Delicia Food     NaN  ...     77476.0  (42.278590000, -71.119440000)\n",
              "1  100 Percent Delicia Food     NaN  ...     77476.0  (42.278590000, -71.119440000)\n",
              "2  100 Percent Delicia Food     NaN  ...     77476.0  (42.278590000, -71.119440000)\n",
              "3  100 Percent Delicia Food     NaN  ...     77476.0  (42.278590000, -71.119440000)\n",
              "4  100 Percent Delicia Food     NaN  ...     77476.0  (42.278590000, -71.119440000)\n",
              "\n",
              "[5 rows x 26 columns]"
            ]
          },
          "metadata": {
            "tags": []
          },
          "execution_count": 3
        }
      ]
    },
    {
      "cell_type": "code",
      "metadata": {
        "id": "eVVBc54jhOzl",
        "colab_type": "code",
        "outputId": "4cc49b95-c2f5-4378-aedf-85bf84065c54",
        "colab": {
          "base_uri": "https://localhost:8080/",
          "height": 33
        }
      },
      "source": [
        "boston_df['violdesc'].nunique()"
      ],
      "execution_count": 4,
      "outputs": [
        {
          "output_type": "execute_result",
          "data": {
            "text/plain": [
              "376"
            ]
          },
          "metadata": {
            "tags": []
          },
          "execution_count": 4
        }
      ]
    },
    {
      "cell_type": "code",
      "metadata": {
        "id": "8E5oUHzCeGgr",
        "colab_type": "code",
        "outputId": "a0f05850-b621-4db5-8e53-b5547a1b8c60",
        "colab": {
          "base_uri": "https://localhost:8080/",
          "height": 33
        }
      },
      "source": [
        "boston_df.shape"
      ],
      "execution_count": 5,
      "outputs": [
        {
          "output_type": "execute_result",
          "data": {
            "text/plain": [
              "(596971, 26)"
            ]
          },
          "metadata": {
            "tags": []
          },
          "execution_count": 5
        }
      ]
    },
    {
      "cell_type": "code",
      "metadata": {
        "id": "pty2sUYreGgw",
        "colab_type": "code",
        "outputId": "098f3c5b-be3b-4e1c-d2dd-ee6c05c20a00",
        "colab": {
          "base_uri": "https://localhost:8080/",
          "height": 466
        }
      },
      "source": [
        "boston_df.dtypes"
      ],
      "execution_count": 6,
      "outputs": [
        {
          "output_type": "execute_result",
          "data": {
            "text/plain": [
              "businessname     object\n",
              "dbaname          object\n",
              "legalowner       object\n",
              "namelast         object\n",
              "namefirst        object\n",
              "licenseno         int64\n",
              "issdttm          object\n",
              "expdttm          object\n",
              "licstatus        object\n",
              "licensecat       object\n",
              "descript         object\n",
              "result           object\n",
              "resultdttm       object\n",
              "violation        object\n",
              "viollevel        object\n",
              "violdesc         object\n",
              "violdttm         object\n",
              "violstatus       object\n",
              "statusdate       object\n",
              "comments         object\n",
              "address          object\n",
              "city             object\n",
              "state            object\n",
              "zip              object\n",
              "property_id     float64\n",
              "location         object\n",
              "dtype: object"
            ]
          },
          "metadata": {
            "tags": []
          },
          "execution_count": 6
        }
      ]
    },
    {
      "cell_type": "markdown",
      "metadata": {
        "id": "6Mddr-L1eGg1",
        "colab_type": "text"
      },
      "source": [
        "The data types suggests that we need to convert the data types of dates to the data-time format as its datatype is object."
      ]
    },
    {
      "cell_type": "markdown",
      "metadata": {
        "id": "36qRDmSheGg1",
        "colab_type": "text"
      },
      "source": [
        "Checking the missing value\n",
        "\n",
        "The missing value is being checked to know that if the columns being used have missing values or not."
      ]
    },
    {
      "cell_type": "code",
      "metadata": {
        "id": "GyIKch_jeGg3",
        "colab_type": "code",
        "outputId": "f7afc4d4-995a-40ec-a9ce-79417625d019",
        "colab": {
          "base_uri": "https://localhost:8080/",
          "height": 827
        }
      },
      "source": [
        "missing_values={}\n",
        "columns=[]\n",
        "no_missing_values=[]\n",
        "for cols in boston_df.columns:\n",
        "    missing_value=boston_df[cols].isna().sum()\n",
        "    columns.append(cols)\n",
        "    no_missing_values.append(missing_value)\n",
        "missing_values[\"Columns\"]=columns\n",
        "missing_values[\"Number of Missing Values\"]=no_missing_values\n",
        "#print(missing_values)\n",
        "missing_values_df=pd.DataFrame.from_dict(missing_values) #https://stackoverflow.com/questions/4527454/python-dictionary-contains-list-as-value-how-to-update\n",
        "missing_values_df"
      ],
      "execution_count": 7,
      "outputs": [
        {
          "output_type": "execute_result",
          "data": {
            "text/html": [
              "<div>\n",
              "<style scoped>\n",
              "    .dataframe tbody tr th:only-of-type {\n",
              "        vertical-align: middle;\n",
              "    }\n",
              "\n",
              "    .dataframe tbody tr th {\n",
              "        vertical-align: top;\n",
              "    }\n",
              "\n",
              "    .dataframe thead th {\n",
              "        text-align: right;\n",
              "    }\n",
              "</style>\n",
              "<table border=\"1\" class=\"dataframe\">\n",
              "  <thead>\n",
              "    <tr style=\"text-align: right;\">\n",
              "      <th></th>\n",
              "      <th>Columns</th>\n",
              "      <th>Number of Missing Values</th>\n",
              "    </tr>\n",
              "  </thead>\n",
              "  <tbody>\n",
              "    <tr>\n",
              "      <th>0</th>\n",
              "      <td>businessname</td>\n",
              "      <td>0</td>\n",
              "    </tr>\n",
              "    <tr>\n",
              "      <th>1</th>\n",
              "      <td>dbaname</td>\n",
              "      <td>591303</td>\n",
              "    </tr>\n",
              "    <tr>\n",
              "      <th>2</th>\n",
              "      <td>legalowner</td>\n",
              "      <td>184470</td>\n",
              "    </tr>\n",
              "    <tr>\n",
              "      <th>3</th>\n",
              "      <td>namelast</td>\n",
              "      <td>0</td>\n",
              "    </tr>\n",
              "    <tr>\n",
              "      <th>4</th>\n",
              "      <td>namefirst</td>\n",
              "      <td>114</td>\n",
              "    </tr>\n",
              "    <tr>\n",
              "      <th>5</th>\n",
              "      <td>licenseno</td>\n",
              "      <td>0</td>\n",
              "    </tr>\n",
              "    <tr>\n",
              "      <th>6</th>\n",
              "      <td>issdttm</td>\n",
              "      <td>0</td>\n",
              "    </tr>\n",
              "    <tr>\n",
              "      <th>7</th>\n",
              "      <td>expdttm</td>\n",
              "      <td>0</td>\n",
              "    </tr>\n",
              "    <tr>\n",
              "      <th>8</th>\n",
              "      <td>licstatus</td>\n",
              "      <td>0</td>\n",
              "    </tr>\n",
              "    <tr>\n",
              "      <th>9</th>\n",
              "      <td>licensecat</td>\n",
              "      <td>0</td>\n",
              "    </tr>\n",
              "    <tr>\n",
              "      <th>10</th>\n",
              "      <td>descript</td>\n",
              "      <td>0</td>\n",
              "    </tr>\n",
              "    <tr>\n",
              "      <th>11</th>\n",
              "      <td>result</td>\n",
              "      <td>0</td>\n",
              "    </tr>\n",
              "    <tr>\n",
              "      <th>12</th>\n",
              "      <td>resultdttm</td>\n",
              "      <td>0</td>\n",
              "    </tr>\n",
              "    <tr>\n",
              "      <th>13</th>\n",
              "      <td>violation</td>\n",
              "      <td>33320</td>\n",
              "    </tr>\n",
              "    <tr>\n",
              "      <th>14</th>\n",
              "      <td>viollevel</td>\n",
              "      <td>33320</td>\n",
              "    </tr>\n",
              "    <tr>\n",
              "      <th>15</th>\n",
              "      <td>violdesc</td>\n",
              "      <td>33339</td>\n",
              "    </tr>\n",
              "    <tr>\n",
              "      <th>16</th>\n",
              "      <td>violdttm</td>\n",
              "      <td>0</td>\n",
              "    </tr>\n",
              "    <tr>\n",
              "      <th>17</th>\n",
              "      <td>violstatus</td>\n",
              "      <td>33320</td>\n",
              "    </tr>\n",
              "    <tr>\n",
              "      <th>18</th>\n",
              "      <td>statusdate</td>\n",
              "      <td>348489</td>\n",
              "    </tr>\n",
              "    <tr>\n",
              "      <th>19</th>\n",
              "      <td>comments</td>\n",
              "      <td>4</td>\n",
              "    </tr>\n",
              "    <tr>\n",
              "      <th>20</th>\n",
              "      <td>address</td>\n",
              "      <td>0</td>\n",
              "    </tr>\n",
              "    <tr>\n",
              "      <th>21</th>\n",
              "      <td>city</td>\n",
              "      <td>26</td>\n",
              "    </tr>\n",
              "    <tr>\n",
              "      <th>22</th>\n",
              "      <td>state</td>\n",
              "      <td>0</td>\n",
              "    </tr>\n",
              "    <tr>\n",
              "      <th>23</th>\n",
              "      <td>zip</td>\n",
              "      <td>235</td>\n",
              "    </tr>\n",
              "    <tr>\n",
              "      <th>24</th>\n",
              "      <td>property_id</td>\n",
              "      <td>132112</td>\n",
              "    </tr>\n",
              "    <tr>\n",
              "      <th>25</th>\n",
              "      <td>location</td>\n",
              "      <td>169195</td>\n",
              "    </tr>\n",
              "  </tbody>\n",
              "</table>\n",
              "</div>"
            ],
            "text/plain": [
              "         Columns  Number of Missing Values\n",
              "0   businessname                         0\n",
              "1        dbaname                    591303\n",
              "2     legalowner                    184470\n",
              "3       namelast                         0\n",
              "4      namefirst                       114\n",
              "5      licenseno                         0\n",
              "6        issdttm                         0\n",
              "7        expdttm                         0\n",
              "8      licstatus                         0\n",
              "9     licensecat                         0\n",
              "10      descript                         0\n",
              "11        result                         0\n",
              "12    resultdttm                         0\n",
              "13     violation                     33320\n",
              "14     viollevel                     33320\n",
              "15      violdesc                     33339\n",
              "16      violdttm                         0\n",
              "17    violstatus                     33320\n",
              "18    statusdate                    348489\n",
              "19      comments                         4\n",
              "20       address                         0\n",
              "21          city                        26\n",
              "22         state                         0\n",
              "23           zip                       235\n",
              "24   property_id                    132112\n",
              "25      location                    169195"
            ]
          },
          "metadata": {
            "tags": []
          },
          "execution_count": 7
        }
      ]
    },
    {
      "cell_type": "markdown",
      "metadata": {
        "id": "1LO9XhlseGg6",
        "colab_type": "text"
      },
      "source": [
        "# Question:\n",
        "Which owner is highly inspected?"
      ]
    },
    {
      "cell_type": "markdown",
      "metadata": {
        "id": "uVAAbNTSeGg7",
        "colab_type": "text"
      },
      "source": [
        "Answer to the question."
      ]
    },
    {
      "cell_type": "code",
      "metadata": {
        "id": "VIAtMepFeGg7",
        "colab_type": "code",
        "outputId": "66cff10a-105c-4d5c-a496-f41b9d32e9c0",
        "colab": {
          "base_uri": "https://localhost:8080/",
          "height": 216
        }
      },
      "source": [
        "boston_df['legalowner'].value_counts()"
      ],
      "execution_count": 8,
      "outputs": [
        {
          "output_type": "execute_result",
          "data": {
            "text/plain": [
              "                                            33778\n",
              "MCCOY RICHARD                                2352\n",
              "GILLETTE CAFETERIA EDWARD C. COLEMAN         1810\n",
              "PETER LUU  PRES.                             1626\n",
              "JACK LYONS  MANAGER                          1594\n",
              "                                            ...  \n",
              "MICHAEL G. KIFLEMARIAM                          1\n",
              "ANN VO                                          1\n",
              "MANSOUR JAMALEDDINE MCDONALD'S                  1\n",
              "HOLLYWOOD ENTERTAINMENT DELOITTE TAX LLP        1\n",
              "PIER FOUR INC                                   1\n",
              "Name: legalowner, Length: 2657, dtype: int64"
            ]
          },
          "metadata": {
            "tags": []
          },
          "execution_count": 8
        }
      ]
    },
    {
      "cell_type": "markdown",
      "metadata": {
        "id": "askpC0pMeGg-",
        "colab_type": "text"
      },
      "source": [
        "# Answer:\n",
        "MCCOY RICHARD"
      ]
    },
    {
      "cell_type": "markdown",
      "metadata": {
        "id": "4BXwe7hneGg_",
        "colab_type": "text"
      },
      "source": [
        "Converting 'issdttm' to datetime type"
      ]
    },
    {
      "cell_type": "code",
      "metadata": {
        "id": "GaFxhbLgeGg_",
        "colab_type": "code",
        "colab": {}
      },
      "source": [
        "boston_df['Time']=pd.to_datetime(boston_df['issdttm'], format='%Y-%m-%d %H:%M:%S',errors=\"coerce\")"
      ],
      "execution_count": 0,
      "outputs": []
    },
    {
      "cell_type": "markdown",
      "metadata": {
        "id": "3Bl6hiSAeGhF",
        "colab_type": "text"
      },
      "source": [
        "Checking to make sure it does not have missing values."
      ]
    },
    {
      "cell_type": "code",
      "metadata": {
        "id": "MHviysIneGhF",
        "colab_type": "code",
        "outputId": "8eb60008-a0a6-4116-82c7-73655da21d00",
        "colab": {
          "base_uri": "https://localhost:8080/",
          "height": 33
        }
      },
      "source": [
        "boston_df.issdttm.isnull().sum()"
      ],
      "execution_count": 10,
      "outputs": [
        {
          "output_type": "execute_result",
          "data": {
            "text/plain": [
              "0"
            ]
          },
          "metadata": {
            "tags": []
          },
          "execution_count": 10
        }
      ]
    },
    {
      "cell_type": "code",
      "metadata": {
        "scrolled": true,
        "id": "iaOtkrkmeGhI",
        "colab_type": "code",
        "outputId": "28d6adc1-fbf1-4ed3-8af6-9c54d6558e0d",
        "colab": {
          "base_uri": "https://localhost:8080/",
          "height": 116
        }
      },
      "source": [
        "boston_df['Time'].head()"
      ],
      "execution_count": 11,
      "outputs": [
        {
          "output_type": "execute_result",
          "data": {
            "text/plain": [
              "0   2013-04-05 12:47:23\n",
              "1   2013-04-05 12:47:23\n",
              "2   2013-04-05 12:47:23\n",
              "3   2013-04-05 12:47:23\n",
              "4   2013-04-05 12:47:23\n",
              "Name: Time, dtype: datetime64[ns]"
            ]
          },
          "metadata": {
            "tags": []
          },
          "execution_count": 11
        }
      ]
    },
    {
      "cell_type": "code",
      "metadata": {
        "id": "r4JUScPceGhL",
        "colab_type": "code",
        "colab": {}
      },
      "source": [
        "boston_df['Hour']=boston_df['Time'].dt.hour\n",
        "boston_df['day']=boston_df['Time'].dt.day\n",
        "boston_df['month']=boston_df['Time'].dt.month\n",
        "boston_df['year']=boston_df['Time'].dt.year"
      ],
      "execution_count": 0,
      "outputs": []
    },
    {
      "cell_type": "markdown",
      "metadata": {
        "id": "vqzv_FwxeGhO",
        "colab_type": "text"
      },
      "source": [
        "While trying to get the day of the week from the 'Time' column, there was an error- Could not convert NAN values. Thus I had to check the 'Time' column for null values."
      ]
    },
    {
      "cell_type": "code",
      "metadata": {
        "id": "Opbe2ZM9eGhP",
        "colab_type": "code",
        "outputId": "2697a5fc-52d9-46e3-8b8f-87075c079420",
        "colab": {
          "base_uri": "https://localhost:8080/",
          "height": 33
        }
      },
      "source": [
        "boston_df['Time'].isnull().sum()"
      ],
      "execution_count": 13,
      "outputs": [
        {
          "output_type": "execute_result",
          "data": {
            "text/plain": [
              "302"
            ]
          },
          "metadata": {
            "tags": []
          },
          "execution_count": 13
        }
      ]
    },
    {
      "cell_type": "code",
      "metadata": {
        "id": "P7aCptuHeGhS",
        "colab_type": "code",
        "outputId": "839822ae-f393-4343-fa29-153644cfce37",
        "colab": {
          "base_uri": "https://localhost:8080/",
          "height": 1000
        }
      },
      "source": [
        "boston_df[boston_df['Time'].isnull()]"
      ],
      "execution_count": 14,
      "outputs": [
        {
          "output_type": "execute_result",
          "data": {
            "text/html": [
              "<div>\n",
              "<style scoped>\n",
              "    .dataframe tbody tr th:only-of-type {\n",
              "        vertical-align: middle;\n",
              "    }\n",
              "\n",
              "    .dataframe tbody tr th {\n",
              "        vertical-align: top;\n",
              "    }\n",
              "\n",
              "    .dataframe thead th {\n",
              "        text-align: right;\n",
              "    }\n",
              "</style>\n",
              "<table border=\"1\" class=\"dataframe\">\n",
              "  <thead>\n",
              "    <tr style=\"text-align: right;\">\n",
              "      <th></th>\n",
              "      <th>businessname</th>\n",
              "      <th>dbaname</th>\n",
              "      <th>legalowner</th>\n",
              "      <th>namelast</th>\n",
              "      <th>namefirst</th>\n",
              "      <th>licenseno</th>\n",
              "      <th>issdttm</th>\n",
              "      <th>expdttm</th>\n",
              "      <th>licstatus</th>\n",
              "      <th>licensecat</th>\n",
              "      <th>descript</th>\n",
              "      <th>result</th>\n",
              "      <th>resultdttm</th>\n",
              "      <th>violation</th>\n",
              "      <th>viollevel</th>\n",
              "      <th>violdesc</th>\n",
              "      <th>violdttm</th>\n",
              "      <th>violstatus</th>\n",
              "      <th>statusdate</th>\n",
              "      <th>comments</th>\n",
              "      <th>address</th>\n",
              "      <th>city</th>\n",
              "      <th>state</th>\n",
              "      <th>zip</th>\n",
              "      <th>property_id</th>\n",
              "      <th>location</th>\n",
              "      <th>Time</th>\n",
              "      <th>Hour</th>\n",
              "      <th>day</th>\n",
              "      <th>month</th>\n",
              "      <th>year</th>\n",
              "    </tr>\n",
              "  </thead>\n",
              "  <tbody>\n",
              "    <tr>\n",
              "      <th>7018</th>\n",
              "      <td>AFC Sushi @ Emerson College</td>\n",
              "      <td>NaN</td>\n",
              "      <td></td>\n",
              "      <td>AFC Franchise Corp.</td>\n",
              "      <td>Att: Accounts Payable</td>\n",
              "      <td>385773</td>\n",
              "      <td></td>\n",
              "      <td></td>\n",
              "      <td>Inactive</td>\n",
              "      <td>FT</td>\n",
              "      <td>Eating &amp; Drinking w/ Take Out</td>\n",
              "      <td>HE_Fail</td>\n",
              "      <td>2019-03-05 11:02:06</td>\n",
              "      <td>37-6-501.11-.12</td>\n",
              "      <td>*</td>\n",
              "      <td>Improper Maintenance of Walls/Ceilings</td>\n",
              "      <td>2019-03-05 11:02:06</td>\n",
              "      <td>Fail</td>\n",
              "      <td>NaN</td>\n",
              "      <td>Retail area where no food prep was done is now...</td>\n",
              "      <td>120  Boylston ST</td>\n",
              "      <td>Boston</td>\n",
              "      <td>MA</td>\n",
              "      <td>02116</td>\n",
              "      <td>340876.0</td>\n",
              "      <td>(42.352219000, -71.065735000)</td>\n",
              "      <td>NaT</td>\n",
              "      <td>NaN</td>\n",
              "      <td>NaN</td>\n",
              "      <td>NaN</td>\n",
              "      <td>NaN</td>\n",
              "    </tr>\n",
              "    <tr>\n",
              "      <th>7019</th>\n",
              "      <td>AFC Sushi @ Emerson College</td>\n",
              "      <td>NaN</td>\n",
              "      <td></td>\n",
              "      <td>AFC Franchise Corp.</td>\n",
              "      <td>Att: Accounts Payable</td>\n",
              "      <td>385773</td>\n",
              "      <td></td>\n",
              "      <td></td>\n",
              "      <td>Inactive</td>\n",
              "      <td>FT</td>\n",
              "      <td>Eating &amp; Drinking w/ Take Out</td>\n",
              "      <td>HE_OutBus</td>\n",
              "      <td>2019-07-18 08:14:51</td>\n",
              "      <td>37-6-501.11-.12</td>\n",
              "      <td>*</td>\n",
              "      <td>Improper Maintenance of Walls/Ceilings</td>\n",
              "      <td>2019-07-18 08:14:51</td>\n",
              "      <td>Pass</td>\n",
              "      <td>2019-07-18 08:49:26</td>\n",
              "      <td>Retail area where no food prep was done is now...</td>\n",
              "      <td>120  Boylston ST</td>\n",
              "      <td>Boston</td>\n",
              "      <td>MA</td>\n",
              "      <td>02116</td>\n",
              "      <td>340876.0</td>\n",
              "      <td>(42.352219000, -71.065735000)</td>\n",
              "      <td>NaT</td>\n",
              "      <td>NaN</td>\n",
              "      <td>NaN</td>\n",
              "      <td>NaN</td>\n",
              "      <td>NaN</td>\n",
              "    </tr>\n",
              "    <tr>\n",
              "      <th>10301</th>\n",
              "      <td>Alex's Ugly Sauce</td>\n",
              "      <td>NaN</td>\n",
              "      <td>NaN</td>\n",
              "      <td>Bourgeois</td>\n",
              "      <td>Alex</td>\n",
              "      <td>416835</td>\n",
              "      <td></td>\n",
              "      <td></td>\n",
              "      <td>Active</td>\n",
              "      <td>RF</td>\n",
              "      <td>Retail Food</td>\n",
              "      <td>HE_Pass</td>\n",
              "      <td>2019-12-13 10:43:28</td>\n",
              "      <td>NaN</td>\n",
              "      <td>NaN</td>\n",
              "      <td>NaN</td>\n",
              "      <td></td>\n",
              "      <td>NaN</td>\n",
              "      <td>NaN</td>\n",
              "      <td></td>\n",
              "      <td>100  Hanover ST</td>\n",
              "      <td>Boston</td>\n",
              "      <td>MA</td>\n",
              "      <td>02108</td>\n",
              "      <td>355634.0</td>\n",
              "      <td>NaN</td>\n",
              "      <td>NaT</td>\n",
              "      <td>NaN</td>\n",
              "      <td>NaN</td>\n",
              "      <td>NaN</td>\n",
              "      <td>NaN</td>\n",
              "    </tr>\n",
              "    <tr>\n",
              "      <th>23828</th>\n",
              "      <td>Arclight Cinemas</td>\n",
              "      <td>NaN</td>\n",
              "      <td>NaN</td>\n",
              "      <td>Pacific Theatres Exhibition Corpl</td>\n",
              "      <td>Att: Accounts Payable</td>\n",
              "      <td>370463</td>\n",
              "      <td></td>\n",
              "      <td></td>\n",
              "      <td>Active</td>\n",
              "      <td>FT</td>\n",
              "      <td>Eating &amp; Drinking w/ Take Out</td>\n",
              "      <td>HE_Pass</td>\n",
              "      <td>2019-11-22 17:14:30</td>\n",
              "      <td>NaN</td>\n",
              "      <td>NaN</td>\n",
              "      <td>NaN</td>\n",
              "      <td></td>\n",
              "      <td>NaN</td>\n",
              "      <td>NaN</td>\n",
              "      <td></td>\n",
              "      <td>60  Causeway St</td>\n",
              "      <td>Boston</td>\n",
              "      <td>MA</td>\n",
              "      <td>02114</td>\n",
              "      <td>439200.0</td>\n",
              "      <td>NaN</td>\n",
              "      <td>NaT</td>\n",
              "      <td>NaN</td>\n",
              "      <td>NaN</td>\n",
              "      <td>NaN</td>\n",
              "      <td>NaN</td>\n",
              "    </tr>\n",
              "    <tr>\n",
              "      <th>58716</th>\n",
              "      <td>Bocao Restaurant &amp; Grill</td>\n",
              "      <td>NaN</td>\n",
              "      <td>NaN</td>\n",
              "      <td>Bocao Restaurant Company</td>\n",
              "      <td>Att: Accounts Payable</td>\n",
              "      <td>392518</td>\n",
              "      <td></td>\n",
              "      <td></td>\n",
              "      <td>Active</td>\n",
              "      <td>FS</td>\n",
              "      <td>Eating &amp; Drinking</td>\n",
              "      <td>HE_Fail</td>\n",
              "      <td>2019-04-25 11:21:17</td>\n",
              "      <td>14-4-202.11</td>\n",
              "      <td>*</td>\n",
              "      <td>Food Contact Surfaces Design</td>\n",
              "      <td>2019-04-25 11:21:17</td>\n",
              "      <td>Fail</td>\n",
              "      <td>NaN</td>\n",
              "      <td>Potatoes stored in open boxes and onions  prov...</td>\n",
              "      <td>3094  Washington ST</td>\n",
              "      <td>Roxbury</td>\n",
              "      <td>MA</td>\n",
              "      <td>02119</td>\n",
              "      <td>351590.0</td>\n",
              "      <td>NaN</td>\n",
              "      <td>NaT</td>\n",
              "      <td>NaN</td>\n",
              "      <td>NaN</td>\n",
              "      <td>NaN</td>\n",
              "      <td>NaN</td>\n",
              "    </tr>\n",
              "    <tr>\n",
              "      <th>...</th>\n",
              "      <td>...</td>\n",
              "      <td>...</td>\n",
              "      <td>...</td>\n",
              "      <td>...</td>\n",
              "      <td>...</td>\n",
              "      <td>...</td>\n",
              "      <td>...</td>\n",
              "      <td>...</td>\n",
              "      <td>...</td>\n",
              "      <td>...</td>\n",
              "      <td>...</td>\n",
              "      <td>...</td>\n",
              "      <td>...</td>\n",
              "      <td>...</td>\n",
              "      <td>...</td>\n",
              "      <td>...</td>\n",
              "      <td>...</td>\n",
              "      <td>...</td>\n",
              "      <td>...</td>\n",
              "      <td>...</td>\n",
              "      <td>...</td>\n",
              "      <td>...</td>\n",
              "      <td>...</td>\n",
              "      <td>...</td>\n",
              "      <td>...</td>\n",
              "      <td>...</td>\n",
              "      <td>...</td>\n",
              "      <td>...</td>\n",
              "      <td>...</td>\n",
              "      <td>...</td>\n",
              "      <td>...</td>\n",
              "    </tr>\n",
              "    <tr>\n",
              "      <th>564961</th>\n",
              "      <td>Vasquez Restaurant</td>\n",
              "      <td>NaN</td>\n",
              "      <td>NaN</td>\n",
              "      <td>Inc</td>\n",
              "      <td>Vasquez Food Service</td>\n",
              "      <td>415052</td>\n",
              "      <td></td>\n",
              "      <td></td>\n",
              "      <td>Active</td>\n",
              "      <td>FT</td>\n",
              "      <td>Eating &amp; Drinking w/ Take Out</td>\n",
              "      <td>HE_Fail</td>\n",
              "      <td>2019-11-20 10:19:26</td>\n",
              "      <td>590.006/6-201.13-C</td>\n",
              "      <td>*</td>\n",
              "      <td>Floor and Wall Junctures  Coved  and Enclosed ...</td>\n",
              "      <td>2019-11-20 10:19:26</td>\n",
              "      <td>Fail</td>\n",
              "      <td>NaN</td>\n",
              "      <td>Replace glass in front door. PIC stated that i...</td>\n",
              "      <td>258  Dudley ST</td>\n",
              "      <td>Roxbury</td>\n",
              "      <td>MA</td>\n",
              "      <td>02119</td>\n",
              "      <td>375035.0</td>\n",
              "      <td>NaN</td>\n",
              "      <td>NaT</td>\n",
              "      <td>NaN</td>\n",
              "      <td>NaN</td>\n",
              "      <td>NaN</td>\n",
              "      <td>NaN</td>\n",
              "    </tr>\n",
              "    <tr>\n",
              "      <th>564962</th>\n",
              "      <td>Vasquez Restaurant</td>\n",
              "      <td>NaN</td>\n",
              "      <td>NaN</td>\n",
              "      <td>Inc</td>\n",
              "      <td>Vasquez Food Service</td>\n",
              "      <td>415052</td>\n",
              "      <td></td>\n",
              "      <td></td>\n",
              "      <td>Active</td>\n",
              "      <td>FT</td>\n",
              "      <td>Eating &amp; Drinking w/ Take Out</td>\n",
              "      <td>HE_Pass</td>\n",
              "      <td>2019-12-05 10:14:38</td>\n",
              "      <td>590.004/4-202.16-C</td>\n",
              "      <td>*</td>\n",
              "      <td>Nonfood-Contact Surfaces (C)</td>\n",
              "      <td>2019-12-05 10:14:38</td>\n",
              "      <td>Pass</td>\n",
              "      <td>2019-12-06 07:14:56</td>\n",
              "      <td>Provide drain plugs for three bay sink. Discon...</td>\n",
              "      <td>258  Dudley ST</td>\n",
              "      <td>Roxbury</td>\n",
              "      <td>MA</td>\n",
              "      <td>02119</td>\n",
              "      <td>375035.0</td>\n",
              "      <td>NaN</td>\n",
              "      <td>NaT</td>\n",
              "      <td>NaN</td>\n",
              "      <td>NaN</td>\n",
              "      <td>NaN</td>\n",
              "      <td>NaN</td>\n",
              "    </tr>\n",
              "    <tr>\n",
              "      <th>564963</th>\n",
              "      <td>Vasquez Restaurant</td>\n",
              "      <td>NaN</td>\n",
              "      <td>NaN</td>\n",
              "      <td>Inc</td>\n",
              "      <td>Vasquez Food Service</td>\n",
              "      <td>415052</td>\n",
              "      <td></td>\n",
              "      <td></td>\n",
              "      <td>Active</td>\n",
              "      <td>FT</td>\n",
              "      <td>Eating &amp; Drinking w/ Take Out</td>\n",
              "      <td>HE_Pass</td>\n",
              "      <td>2019-12-05 10:14:38</td>\n",
              "      <td>590.006/6-201.13-C</td>\n",
              "      <td>*</td>\n",
              "      <td>Floor and Wall Junctures  Coved  and Enclosed ...</td>\n",
              "      <td>2019-12-05 10:14:38</td>\n",
              "      <td>Pass</td>\n",
              "      <td>2019-12-06 07:14:56</td>\n",
              "      <td>Replace glass in front door. PIC stated that i...</td>\n",
              "      <td>258  Dudley ST</td>\n",
              "      <td>Roxbury</td>\n",
              "      <td>MA</td>\n",
              "      <td>02119</td>\n",
              "      <td>375035.0</td>\n",
              "      <td>NaN</td>\n",
              "      <td>NaT</td>\n",
              "      <td>NaN</td>\n",
              "      <td>NaN</td>\n",
              "      <td>NaN</td>\n",
              "      <td>NaN</td>\n",
              "    </tr>\n",
              "    <tr>\n",
              "      <th>583519</th>\n",
              "      <td>Wine Riot South End</td>\n",
              "      <td>NaN</td>\n",
              "      <td>NaN</td>\n",
              "      <td>First</td>\n",
              "      <td>Morgan</td>\n",
              "      <td>201259</td>\n",
              "      <td></td>\n",
              "      <td></td>\n",
              "      <td>Inactive</td>\n",
              "      <td>RF</td>\n",
              "      <td>Retail Food</td>\n",
              "      <td>HE_Fail</td>\n",
              "      <td>2016-08-17 14:03:52</td>\n",
              "      <td>31-5-203.11</td>\n",
              "      <td>***</td>\n",
              "      <td>Number  Convenient</td>\n",
              "      <td>2016-08-17 14:03:52</td>\n",
              "      <td>Fail</td>\n",
              "      <td>NaN</td>\n",
              "      <td>No hand sink in ware washing area  supply</td>\n",
              "      <td>503   Tremont ST</td>\n",
              "      <td>Boston</td>\n",
              "      <td>MA</td>\n",
              "      <td>02116</td>\n",
              "      <td>341128.0</td>\n",
              "      <td>(42.344923000, -71.070755000)</td>\n",
              "      <td>NaT</td>\n",
              "      <td>NaN</td>\n",
              "      <td>NaN</td>\n",
              "      <td>NaN</td>\n",
              "      <td>NaN</td>\n",
              "    </tr>\n",
              "    <tr>\n",
              "      <th>583520</th>\n",
              "      <td>Wine Riot South End</td>\n",
              "      <td>NaN</td>\n",
              "      <td>NaN</td>\n",
              "      <td>First</td>\n",
              "      <td>Morgan</td>\n",
              "      <td>201259</td>\n",
              "      <td></td>\n",
              "      <td></td>\n",
              "      <td>Inactive</td>\n",
              "      <td>RF</td>\n",
              "      <td>Retail Food</td>\n",
              "      <td>HE_FailExt</td>\n",
              "      <td>2016-09-01 14:14:08</td>\n",
              "      <td>31-5-203.11</td>\n",
              "      <td>***</td>\n",
              "      <td>Number  Convenient</td>\n",
              "      <td>2016-09-01 14:14:08</td>\n",
              "      <td>Fail</td>\n",
              "      <td>NaN</td>\n",
              "      <td>No hand sink in ware washing area  supply</td>\n",
              "      <td>503   Tremont ST</td>\n",
              "      <td>Boston</td>\n",
              "      <td>MA</td>\n",
              "      <td>02116</td>\n",
              "      <td>341128.0</td>\n",
              "      <td>(42.344923000, -71.070755000)</td>\n",
              "      <td>NaT</td>\n",
              "      <td>NaN</td>\n",
              "      <td>NaN</td>\n",
              "      <td>NaN</td>\n",
              "      <td>NaN</td>\n",
              "    </tr>\n",
              "  </tbody>\n",
              "</table>\n",
              "<p>302 rows × 31 columns</p>\n",
              "</div>"
            ],
            "text/plain": [
              "                       businessname dbaname legalowner  ... day month  year\n",
              "7018    AFC Sushi @ Emerson College     NaN             ... NaN   NaN   NaN\n",
              "7019    AFC Sushi @ Emerson College     NaN             ... NaN   NaN   NaN\n",
              "10301             Alex's Ugly Sauce     NaN        NaN  ... NaN   NaN   NaN\n",
              "23828              Arclight Cinemas     NaN        NaN  ... NaN   NaN   NaN\n",
              "58716      Bocao Restaurant & Grill     NaN        NaN  ... NaN   NaN   NaN\n",
              "...                             ...     ...        ...  ...  ..   ...   ...\n",
              "564961           Vasquez Restaurant     NaN        NaN  ... NaN   NaN   NaN\n",
              "564962           Vasquez Restaurant     NaN        NaN  ... NaN   NaN   NaN\n",
              "564963           Vasquez Restaurant     NaN        NaN  ... NaN   NaN   NaN\n",
              "583519          Wine Riot South End     NaN        NaN  ... NaN   NaN   NaN\n",
              "583520          Wine Riot South End     NaN        NaN  ... NaN   NaN   NaN\n",
              "\n",
              "[302 rows x 31 columns]"
            ]
          },
          "metadata": {
            "tags": []
          },
          "execution_count": 14
        }
      ]
    },
    {
      "cell_type": "markdown",
      "metadata": {
        "id": "GJm2zflNeGhV",
        "colab_type": "text"
      },
      "source": [
        "We can see that the issdttm column is now coming null. Earlier this column had no null values. I was not able to solve this inconsistency. So I decided to drop the rows which had null values in Time column."
      ]
    },
    {
      "cell_type": "markdown",
      "metadata": {
        "id": "kbLB3r_PeGhW",
        "colab_type": "text"
      },
      "source": [
        "Dropping the rows which has the value of Time column Null."
      ]
    },
    {
      "cell_type": "code",
      "metadata": {
        "id": "JOWT3FsleGhW",
        "colab_type": "code",
        "colab": {}
      },
      "source": [
        "boston_df = boston_df.dropna(axis=0, subset=['Time'])"
      ],
      "execution_count": 0,
      "outputs": []
    },
    {
      "cell_type": "markdown",
      "metadata": {
        "id": "IBexrXFYeGhZ",
        "colab_type": "text"
      },
      "source": [
        "Getting day of the week to check on which days the complaints are reported/updated."
      ]
    },
    {
      "cell_type": "code",
      "metadata": {
        "scrolled": true,
        "id": "rGQ70nrxeGha",
        "colab_type": "code",
        "colab": {}
      },
      "source": [
        "day_of_week=[i.strftime(\"%A\") for i in boston_df['Time']]\n",
        "boston_df['day_of_week']=day_of_week"
      ],
      "execution_count": 0,
      "outputs": []
    },
    {
      "cell_type": "code",
      "metadata": {
        "id": "Omq1ecNTeGhc",
        "colab_type": "code",
        "colab": {}
      },
      "source": [
        "boston_df['num_of_day']=[int(i.strftime(\"%w\")) for i in boston_df['Time']]"
      ],
      "execution_count": 0,
      "outputs": []
    },
    {
      "cell_type": "code",
      "metadata": {
        "id": "our8OgbeeGhf",
        "colab_type": "code",
        "outputId": "00176cd9-e2de-4504-a74c-699cab772171",
        "colab": {
          "base_uri": "https://localhost:8080/",
          "height": 583
        }
      },
      "source": [
        "boston_df.dtypes"
      ],
      "execution_count": 18,
      "outputs": [
        {
          "output_type": "execute_result",
          "data": {
            "text/plain": [
              "businessname            object\n",
              "dbaname                 object\n",
              "legalowner              object\n",
              "namelast                object\n",
              "namefirst               object\n",
              "licenseno                int64\n",
              "issdttm                 object\n",
              "expdttm                 object\n",
              "licstatus               object\n",
              "licensecat              object\n",
              "descript                object\n",
              "result                  object\n",
              "resultdttm              object\n",
              "violation               object\n",
              "viollevel               object\n",
              "violdesc                object\n",
              "violdttm                object\n",
              "violstatus              object\n",
              "statusdate              object\n",
              "comments                object\n",
              "address                 object\n",
              "city                    object\n",
              "state                   object\n",
              "zip                     object\n",
              "property_id            float64\n",
              "location                object\n",
              "Time            datetime64[ns]\n",
              "Hour                   float64\n",
              "day                    float64\n",
              "month                  float64\n",
              "year                   float64\n",
              "day_of_week             object\n",
              "num_of_day               int64\n",
              "dtype: object"
            ]
          },
          "metadata": {
            "tags": []
          },
          "execution_count": 18
        }
      ]
    },
    {
      "cell_type": "code",
      "metadata": {
        "id": "zY1n08c9eGhi",
        "colab_type": "code",
        "outputId": "19c2bdef-62ca-4b0d-b311-21ce69c5f89a",
        "colab": {
          "base_uri": "https://localhost:8080/",
          "height": 534
        }
      },
      "source": [
        "boston_df.head()"
      ],
      "execution_count": 19,
      "outputs": [
        {
          "output_type": "execute_result",
          "data": {
            "text/html": [
              "<div>\n",
              "<style scoped>\n",
              "    .dataframe tbody tr th:only-of-type {\n",
              "        vertical-align: middle;\n",
              "    }\n",
              "\n",
              "    .dataframe tbody tr th {\n",
              "        vertical-align: top;\n",
              "    }\n",
              "\n",
              "    .dataframe thead th {\n",
              "        text-align: right;\n",
              "    }\n",
              "</style>\n",
              "<table border=\"1\" class=\"dataframe\">\n",
              "  <thead>\n",
              "    <tr style=\"text-align: right;\">\n",
              "      <th></th>\n",
              "      <th>businessname</th>\n",
              "      <th>dbaname</th>\n",
              "      <th>legalowner</th>\n",
              "      <th>namelast</th>\n",
              "      <th>namefirst</th>\n",
              "      <th>licenseno</th>\n",
              "      <th>issdttm</th>\n",
              "      <th>expdttm</th>\n",
              "      <th>licstatus</th>\n",
              "      <th>licensecat</th>\n",
              "      <th>descript</th>\n",
              "      <th>result</th>\n",
              "      <th>resultdttm</th>\n",
              "      <th>violation</th>\n",
              "      <th>viollevel</th>\n",
              "      <th>violdesc</th>\n",
              "      <th>violdttm</th>\n",
              "      <th>violstatus</th>\n",
              "      <th>statusdate</th>\n",
              "      <th>comments</th>\n",
              "      <th>address</th>\n",
              "      <th>city</th>\n",
              "      <th>state</th>\n",
              "      <th>zip</th>\n",
              "      <th>property_id</th>\n",
              "      <th>location</th>\n",
              "      <th>Time</th>\n",
              "      <th>Hour</th>\n",
              "      <th>day</th>\n",
              "      <th>month</th>\n",
              "      <th>year</th>\n",
              "      <th>day_of_week</th>\n",
              "      <th>num_of_day</th>\n",
              "    </tr>\n",
              "  </thead>\n",
              "  <tbody>\n",
              "    <tr>\n",
              "      <th>0</th>\n",
              "      <td>100 Percent Delicia Food</td>\n",
              "      <td>NaN</td>\n",
              "      <td>BRENNAN PATRICK E</td>\n",
              "      <td>Marte</td>\n",
              "      <td>Civelis</td>\n",
              "      <td>87059</td>\n",
              "      <td>2013-04-05 12:47:23</td>\n",
              "      <td>2020-12-31 23:59:00</td>\n",
              "      <td>Active</td>\n",
              "      <td>FS</td>\n",
              "      <td>Eating &amp; Drinking</td>\n",
              "      <td>HE_Fail</td>\n",
              "      <td>2013-02-15 12:19:42</td>\n",
              "      <td>15-4-202.16</td>\n",
              "      <td>*</td>\n",
              "      <td>Non-Food Contact Surfaces</td>\n",
              "      <td>2013-02-15 12:19:42</td>\n",
              "      <td>Fail</td>\n",
              "      <td>NaN</td>\n",
              "      <td>Provide glass storage rack.</td>\n",
              "      <td>635   Hyde Park AVE</td>\n",
              "      <td>Roslindale</td>\n",
              "      <td>MA</td>\n",
              "      <td>02131</td>\n",
              "      <td>77476.0</td>\n",
              "      <td>(42.278590000, -71.119440000)</td>\n",
              "      <td>2013-04-05 12:47:23</td>\n",
              "      <td>12.0</td>\n",
              "      <td>5.0</td>\n",
              "      <td>4.0</td>\n",
              "      <td>2013.0</td>\n",
              "      <td>Friday</td>\n",
              "      <td>5</td>\n",
              "    </tr>\n",
              "    <tr>\n",
              "      <th>1</th>\n",
              "      <td>100 Percent Delicia Food</td>\n",
              "      <td>NaN</td>\n",
              "      <td>BRENNAN PATRICK E</td>\n",
              "      <td>Marte</td>\n",
              "      <td>Civelis</td>\n",
              "      <td>87059</td>\n",
              "      <td>2013-04-05 12:47:23</td>\n",
              "      <td>2020-12-31 23:59:00</td>\n",
              "      <td>Active</td>\n",
              "      <td>FS</td>\n",
              "      <td>Eating &amp; Drinking</td>\n",
              "      <td>HE_Fail</td>\n",
              "      <td>2013-02-15 12:19:42</td>\n",
              "      <td>16-4-501.11/.15</td>\n",
              "      <td>*</td>\n",
              "      <td>Dishwashng Facilities</td>\n",
              "      <td>2013-02-15 12:19:42</td>\n",
              "      <td>Fail</td>\n",
              "      <td>NaN</td>\n",
              "      <td>Provide dish rack over 3 bay sink to replace m...</td>\n",
              "      <td>635   Hyde Park AVE</td>\n",
              "      <td>Roslindale</td>\n",
              "      <td>MA</td>\n",
              "      <td>02131</td>\n",
              "      <td>77476.0</td>\n",
              "      <td>(42.278590000, -71.119440000)</td>\n",
              "      <td>2013-04-05 12:47:23</td>\n",
              "      <td>12.0</td>\n",
              "      <td>5.0</td>\n",
              "      <td>4.0</td>\n",
              "      <td>2013.0</td>\n",
              "      <td>Friday</td>\n",
              "      <td>5</td>\n",
              "    </tr>\n",
              "    <tr>\n",
              "      <th>2</th>\n",
              "      <td>100 Percent Delicia Food</td>\n",
              "      <td>NaN</td>\n",
              "      <td>BRENNAN PATRICK E</td>\n",
              "      <td>Marte</td>\n",
              "      <td>Civelis</td>\n",
              "      <td>87059</td>\n",
              "      <td>2013-04-05 12:47:23</td>\n",
              "      <td>2020-12-31 23:59:00</td>\n",
              "      <td>Active</td>\n",
              "      <td>FS</td>\n",
              "      <td>Eating &amp; Drinking</td>\n",
              "      <td>HE_Fail</td>\n",
              "      <td>2013-02-15 12:19:42</td>\n",
              "      <td>16-4-501.11/.15</td>\n",
              "      <td>*</td>\n",
              "      <td>Dishwashng Facilities</td>\n",
              "      <td>2013-02-15 12:19:42</td>\n",
              "      <td>Fail</td>\n",
              "      <td>NaN</td>\n",
              "      <td>Provide dish washer at ware washing area.</td>\n",
              "      <td>635   Hyde Park AVE</td>\n",
              "      <td>Roslindale</td>\n",
              "      <td>MA</td>\n",
              "      <td>02131</td>\n",
              "      <td>77476.0</td>\n",
              "      <td>(42.278590000, -71.119440000)</td>\n",
              "      <td>2013-04-05 12:47:23</td>\n",
              "      <td>12.0</td>\n",
              "      <td>5.0</td>\n",
              "      <td>4.0</td>\n",
              "      <td>2013.0</td>\n",
              "      <td>Friday</td>\n",
              "      <td>5</td>\n",
              "    </tr>\n",
              "    <tr>\n",
              "      <th>3</th>\n",
              "      <td>100 Percent Delicia Food</td>\n",
              "      <td>NaN</td>\n",
              "      <td>BRENNAN PATRICK E</td>\n",
              "      <td>Marte</td>\n",
              "      <td>Civelis</td>\n",
              "      <td>87059</td>\n",
              "      <td>2013-04-05 12:47:23</td>\n",
              "      <td>2020-12-31 23:59:00</td>\n",
              "      <td>Active</td>\n",
              "      <td>FS</td>\n",
              "      <td>Eating &amp; Drinking</td>\n",
              "      <td>HE_Fail</td>\n",
              "      <td>2013-02-15 12:19:42</td>\n",
              "      <td>29-5-201/02.11</td>\n",
              "      <td>*</td>\n",
              "      <td>Installed and Maintained</td>\n",
              "      <td>2013-02-15 12:19:42</td>\n",
              "      <td>Fail</td>\n",
              "      <td>NaN</td>\n",
              "      <td>Provide mop sink at basement.</td>\n",
              "      <td>635   Hyde Park AVE</td>\n",
              "      <td>Roslindale</td>\n",
              "      <td>MA</td>\n",
              "      <td>02131</td>\n",
              "      <td>77476.0</td>\n",
              "      <td>(42.278590000, -71.119440000)</td>\n",
              "      <td>2013-04-05 12:47:23</td>\n",
              "      <td>12.0</td>\n",
              "      <td>5.0</td>\n",
              "      <td>4.0</td>\n",
              "      <td>2013.0</td>\n",
              "      <td>Friday</td>\n",
              "      <td>5</td>\n",
              "    </tr>\n",
              "    <tr>\n",
              "      <th>4</th>\n",
              "      <td>100 Percent Delicia Food</td>\n",
              "      <td>NaN</td>\n",
              "      <td>BRENNAN PATRICK E</td>\n",
              "      <td>Marte</td>\n",
              "      <td>Civelis</td>\n",
              "      <td>87059</td>\n",
              "      <td>2013-04-05 12:47:23</td>\n",
              "      <td>2020-12-31 23:59:00</td>\n",
              "      <td>Active</td>\n",
              "      <td>FS</td>\n",
              "      <td>Eating &amp; Drinking</td>\n",
              "      <td>HE_Fail</td>\n",
              "      <td>2013-02-15 12:19:42</td>\n",
              "      <td>31-5-204/05.11</td>\n",
              "      <td>***</td>\n",
              "      <td>Location  Accessible</td>\n",
              "      <td>2013-02-15 12:19:42</td>\n",
              "      <td>Fail</td>\n",
              "      <td>NaN</td>\n",
              "      <td>No hand sink at Bar Area  provide.</td>\n",
              "      <td>635   Hyde Park AVE</td>\n",
              "      <td>Roslindale</td>\n",
              "      <td>MA</td>\n",
              "      <td>02131</td>\n",
              "      <td>77476.0</td>\n",
              "      <td>(42.278590000, -71.119440000)</td>\n",
              "      <td>2013-04-05 12:47:23</td>\n",
              "      <td>12.0</td>\n",
              "      <td>5.0</td>\n",
              "      <td>4.0</td>\n",
              "      <td>2013.0</td>\n",
              "      <td>Friday</td>\n",
              "      <td>5</td>\n",
              "    </tr>\n",
              "  </tbody>\n",
              "</table>\n",
              "</div>"
            ],
            "text/plain": [
              "               businessname dbaname  ... day_of_week num_of_day\n",
              "0  100 Percent Delicia Food     NaN  ...      Friday          5\n",
              "1  100 Percent Delicia Food     NaN  ...      Friday          5\n",
              "2  100 Percent Delicia Food     NaN  ...      Friday          5\n",
              "3  100 Percent Delicia Food     NaN  ...      Friday          5\n",
              "4  100 Percent Delicia Food     NaN  ...      Friday          5\n",
              "\n",
              "[5 rows x 33 columns]"
            ]
          },
          "metadata": {
            "tags": []
          },
          "execution_count": 19
        }
      ]
    },
    {
      "cell_type": "markdown",
      "metadata": {
        "id": "l4gT49rjhCIz",
        "colab_type": "text"
      },
      "source": [
        "# Hypothesis:\n",
        "\n",
        "The complaints/inspections would be more on weekends than weekdays as there is more rush on weekends than weekdays."
      ]
    },
    {
      "cell_type": "code",
      "metadata": {
        "id": "nhnVqyJneGhk",
        "colab_type": "code",
        "outputId": "61b2e7b5-1b33-435a-cb6a-cf00fb0bee0b",
        "colab": {
          "base_uri": "https://localhost:8080/",
          "height": 150
        }
      },
      "source": [
        "boston_df.day_of_week.value_counts()"
      ],
      "execution_count": 20,
      "outputs": [
        {
          "output_type": "execute_result",
          "data": {
            "text/plain": [
              "Wednesday    145857\n",
              "Tuesday      124480\n",
              "Thursday     117502\n",
              "Monday       102695\n",
              "Friday       100359\n",
              "Saturday       4706\n",
              "Sunday         1070\n",
              "Name: day_of_week, dtype: int64"
            ]
          },
          "metadata": {
            "tags": []
          },
          "execution_count": 20
        }
      ]
    },
    {
      "cell_type": "markdown",
      "metadata": {
        "id": "VpjGpoOIeGhm",
        "colab_type": "text"
      },
      "source": [
        "# Graph to show the number of complaints accounted on a week day."
      ]
    },
    {
      "cell_type": "code",
      "metadata": {
        "id": "lyNcvb9VeGhm",
        "colab_type": "code",
        "outputId": "18c7998e-8666-4823-a758-274d5dba31c5",
        "colab": {
          "base_uri": "https://localhost:8080/",
          "height": 311
        }
      },
      "source": [
        "sns.distplot(boston_df['num_of_day'], kde=False)\n",
        "plt.xlabel(\"Day of week\")\n",
        "plt.ylabel(\"Inspection Count\")\n",
        "plt.title(\"Inspection on each week day\")"
      ],
      "execution_count": 21,
      "outputs": [
        {
          "output_type": "execute_result",
          "data": {
            "text/plain": [
              "Text(0.5, 1.0, 'Inspection on each week day')"
            ]
          },
          "metadata": {
            "tags": []
          },
          "execution_count": 21
        },
        {
          "output_type": "display_data",
          "data": {
            "image/png": "[encoded data removed]",
            "text/plain": [
              "<Figure size 432x288 with 1 Axes>"
            ]
          },
          "metadata": {
            "tags": [],
            "needs_background": "light"
          }
        }
      ]
    },
    {
      "cell_type": "markdown",
      "metadata": {
        "id": "1P-2vWEgeGhp",
        "colab_type": "text"
      },
      "source": [
        "# (In)Validation of hypothesis:\n",
        "\n",
        "It is evident from the figure that the inspections are registered majorly on weekdays."
      ]
    },
    {
      "cell_type": "markdown",
      "metadata": {
        "id": "iPgez2v9IcXq",
        "colab_type": "text"
      },
      "source": [
        "# Question:\n",
        "In which year most of the inspections were reported?\n"
      ]
    },
    {
      "cell_type": "code",
      "metadata": {
        "id": "IIgPlifUIamT",
        "colab_type": "code",
        "outputId": "20503a14-86e5-4060-b1f7-2ece61b01e8e",
        "colab": {
          "base_uri": "https://localhost:8080/",
          "height": 250
        }
      },
      "source": [
        "boston_df.year.value_counts()"
      ],
      "execution_count": 22,
      "outputs": [
        {
          "output_type": "execute_result",
          "data": {
            "text/plain": [
              "2012.0    334143\n",
              "2011.0    146430\n",
              "2013.0     23127\n",
              "2015.0     18438\n",
              "2014.0     17098\n",
              "2016.0     14841\n",
              "2017.0      9586\n",
              "2010.0      9450\n",
              "2009.0      8013\n",
              "2018.0      6246\n",
              "2008.0      4993\n",
              "2019.0      2527\n",
              "2007.0      1777\n",
              "Name: year, dtype: int64"
            ]
          },
          "metadata": {
            "tags": []
          },
          "execution_count": 22
        }
      ]
    },
    {
      "cell_type": "code",
      "metadata": {
        "id": "f7_oThb5dPTE",
        "colab_type": "code",
        "outputId": "5143c37b-de04-4ff2-9bc1-5713238596f0",
        "colab": {
          "base_uri": "https://localhost:8080/",
          "height": 311
        }
      },
      "source": [
        "sns.distplot(boston_df['year'], kde=False)\n",
        "plt.xlabel(\"Year\")\n",
        "plt.ylabel(\"Count of complaints/inspections.\")\n",
        "plt.title(\"Inspection\")"
      ],
      "execution_count": 23,
      "outputs": [
        {
          "output_type": "execute_result",
          "data": {
            "text/plain": [
              "Text(0.5, 1.0, 'Inspection')"
            ]
          },
          "metadata": {
            "tags": []
          },
          "execution_count": 23
        },
        {
          "output_type": "display_data",
          "data": {
            "image/png": "[encoded data removed]",
            "text/plain": [
              "<Figure size 432x288 with 1 Axes>"
            ]
          },
          "metadata": {
            "tags": [],
            "needs_background": "light"
          }
        }
      ]
    },
    {
      "cell_type": "markdown",
      "metadata": {
        "id": "A8PaAw8Kekw_",
        "colab_type": "text"
      },
      "source": [
        "# Answer:\n",
        "In the year 2012, highest number of inspections were roprted."
      ]
    },
    {
      "cell_type": "markdown",
      "metadata": {
        "id": "Twy1Uqn1eGhq",
        "colab_type": "text"
      },
      "source": [
        "# Census Data"
      ]
    },
    {
      "cell_type": "markdown",
      "metadata": {
        "id": "_QRiXuX1eGhr",
        "colab_type": "text"
      },
      "source": [
        "The census data was spread on 5 html page. Thus created a list of those html links. Then used beautifulSoup to extract the data"
      ]
    },
    {
      "cell_type": "code",
      "metadata": {
        "id": "-1LJXpaaeGhr",
        "colab_type": "code",
        "colab": {}
      },
      "source": [
        "final=[]\n",
        "list_of_html_link=[\"http://zipatlas.com/us/ma/zip-code-comparison/population-density.htm\",'http://zipatlas.com/us/ma/zip-code-comparison/population-density.2.htm','http://zipatlas.com/us/ma/zip-code-comparison/population-density.3.htm','http://zipatlas.com/us/ma/zip-code-comparison/population-density.4.htm','http://zipatlas.com/us/ma/zip-code-comparison/population-density.5.htm']\n",
        "for each_link in list_of_html_link:\n",
        "    res=requests.get(each_link)\n",
        "    soup = BeautifulSoup(res.text, 'html.parser')\n",
        "    every_table = soup.findAll('table')\n",
        "    html_table_as_text = str(every_table[12])\n",
        "    page_content =pd.read_html(html_table_as_text)\n",
        "    pd_data=pd.DataFrame(page_content[0])\n",
        "    pd_data=pd_data.iloc[1:,1:]\n",
        "    final.append(pd_data)\n",
        "census_df=pd.concat(final)\n",
        "census_df.columns=['zip','Location','City','Population','People/Sq.Mile','National Rank']"
      ],
      "execution_count": 0,
      "outputs": []
    },
    {
      "cell_type": "code",
      "metadata": {
        "id": "L-smk0G_eGht",
        "colab_type": "code",
        "colab": {
          "base_uri": "https://localhost:8080/",
          "height": 197
        },
        "outputId": "20a9bcae-5a8f-434d-d983-f432ae8598cc"
      },
      "source": [
        "census_df.head()"
      ],
      "execution_count": 25,
      "outputs": [
        {
          "output_type": "execute_result",
          "data": {
            "text/html": [
              "<div>\n",
              "<style scoped>\n",
              "    .dataframe tbody tr th:only-of-type {\n",
              "        vertical-align: middle;\n",
              "    }\n",
              "\n",
              "    .dataframe tbody tr th {\n",
              "        vertical-align: top;\n",
              "    }\n",
              "\n",
              "    .dataframe thead th {\n",
              "        text-align: right;\n",
              "    }\n",
              "</style>\n",
              "<table border=\"1\" class=\"dataframe\">\n",
              "  <thead>\n",
              "    <tr style=\"text-align: right;\">\n",
              "      <th></th>\n",
              "      <th>zip</th>\n",
              "      <th>Location</th>\n",
              "      <th>City</th>\n",
              "      <th>Population</th>\n",
              "      <th>People/Sq.Mile</th>\n",
              "      <th>National Rank</th>\n",
              "    </tr>\n",
              "  </thead>\n",
              "  <tbody>\n",
              "    <tr>\n",
              "      <th>1</th>\n",
              "      <td>02113</td>\n",
              "      <td>42.365170, -71.055363</td>\n",
              "      <td>Boston, Massachusetts</td>\n",
              "      <td>6401</td>\n",
              "      <td>60728.26</td>\n",
              "      <td>#35</td>\n",
              "    </tr>\n",
              "    <tr>\n",
              "      <th>2</th>\n",
              "      <td>02115</td>\n",
              "      <td>42.337545, -71.106173</td>\n",
              "      <td>Boston, Massachusetts</td>\n",
              "      <td>25486</td>\n",
              "      <td>30823.24</td>\n",
              "      <td>#116</td>\n",
              "    </tr>\n",
              "    <tr>\n",
              "      <th>3</th>\n",
              "      <td>02116</td>\n",
              "      <td>42.349991, -71.076080</td>\n",
              "      <td>Boston, Massachusetts</td>\n",
              "      <td>19682</td>\n",
              "      <td>26352.26</td>\n",
              "      <td>#135</td>\n",
              "    </tr>\n",
              "    <tr>\n",
              "      <th>4</th>\n",
              "      <td>02215</td>\n",
              "      <td>42.347053, -71.101985</td>\n",
              "      <td>Boston, Massachusetts</td>\n",
              "      <td>21963</td>\n",
              "      <td>25125.73</td>\n",
              "      <td>#145</td>\n",
              "    </tr>\n",
              "    <tr>\n",
              "      <th>5</th>\n",
              "      <td>02144</td>\n",
              "      <td>42.399655, -71.122550</td>\n",
              "      <td>Somerville, Massachusetts</td>\n",
              "      <td>25058</td>\n",
              "      <td>23099.70</td>\n",
              "      <td>#161</td>\n",
              "    </tr>\n",
              "  </tbody>\n",
              "</table>\n",
              "</div>"
            ],
            "text/plain": [
              "     zip               Location  ... People/Sq.Mile National Rank\n",
              "1  02113  42.365170, -71.055363  ...       60728.26           #35\n",
              "2  02115  42.337545, -71.106173  ...       30823.24          #116\n",
              "3  02116  42.349991, -71.076080  ...       26352.26          #135\n",
              "4  02215  42.347053, -71.101985  ...       25125.73          #145\n",
              "5  02144  42.399655, -71.122550  ...       23099.70          #161\n",
              "\n",
              "[5 rows x 6 columns]"
            ]
          },
          "metadata": {
            "tags": []
          },
          "execution_count": 25
        }
      ]
    },
    {
      "cell_type": "code",
      "metadata": {
        "id": "vv-SoS2KeGhv",
        "colab_type": "code",
        "colab": {
          "base_uri": "https://localhost:8080/",
          "height": 33
        },
        "outputId": "0cd282f5-6786-403a-9e63-bc8286347498"
      },
      "source": [
        "census_df.shape"
      ],
      "execution_count": 26,
      "outputs": [
        {
          "output_type": "execute_result",
          "data": {
            "text/plain": [
              "(500, 6)"
            ]
          },
          "metadata": {
            "tags": []
          },
          "execution_count": 26
        }
      ]
    },
    {
      "cell_type": "markdown",
      "metadata": {
        "id": "WKL31yDteGh2",
        "colab_type": "text"
      },
      "source": [
        "New dataframe which has zip, population, business name and number of complaints per business."
      ]
    },
    {
      "cell_type": "code",
      "metadata": {
        "id": "13Kr4202eGh2",
        "colab_type": "code",
        "colab": {}
      },
      "source": [
        "final_df=boston_df[['zip','businessname']].merge(census_df[['Population','zip']],on='zip')"
      ],
      "execution_count": 0,
      "outputs": []
    },
    {
      "cell_type": "code",
      "metadata": {
        "id": "GSyD6QB9eGh7",
        "colab_type": "code",
        "colab": {
          "base_uri": "https://localhost:8080/",
          "height": 33
        },
        "outputId": "6c53b93f-3cb2-47b7-c998-5382a64e9e4a"
      },
      "source": [
        "final_df.shape"
      ],
      "execution_count": 28,
      "outputs": [
        {
          "output_type": "execute_result",
          "data": {
            "text/plain": [
              "(489123, 3)"
            ]
          },
          "metadata": {
            "tags": []
          },
          "execution_count": 28
        }
      ]
    },
    {
      "cell_type": "code",
      "metadata": {
        "id": "blbhkowweGh9",
        "colab_type": "code",
        "colab": {
          "base_uri": "https://localhost:8080/",
          "height": 197
        },
        "outputId": "fdf80999-7f88-4522-86e8-dfb33ff726db"
      },
      "source": [
        "final_df.head()"
      ],
      "execution_count": 29,
      "outputs": [
        {
          "output_type": "execute_result",
          "data": {
            "text/html": [
              "<div>\n",
              "<style scoped>\n",
              "    .dataframe tbody tr th:only-of-type {\n",
              "        vertical-align: middle;\n",
              "    }\n",
              "\n",
              "    .dataframe tbody tr th {\n",
              "        vertical-align: top;\n",
              "    }\n",
              "\n",
              "    .dataframe thead th {\n",
              "        text-align: right;\n",
              "    }\n",
              "</style>\n",
              "<table border=\"1\" class=\"dataframe\">\n",
              "  <thead>\n",
              "    <tr style=\"text-align: right;\">\n",
              "      <th></th>\n",
              "      <th>zip</th>\n",
              "      <th>businessname</th>\n",
              "      <th>Population</th>\n",
              "    </tr>\n",
              "  </thead>\n",
              "  <tbody>\n",
              "    <tr>\n",
              "      <th>0</th>\n",
              "      <td>02131</td>\n",
              "      <td>100 Percent Delicia Food</td>\n",
              "      <td>32527</td>\n",
              "    </tr>\n",
              "    <tr>\n",
              "      <th>1</th>\n",
              "      <td>02131</td>\n",
              "      <td>100 Percent Delicia Food</td>\n",
              "      <td>32527</td>\n",
              "    </tr>\n",
              "    <tr>\n",
              "      <th>2</th>\n",
              "      <td>02131</td>\n",
              "      <td>100 Percent Delicia Food</td>\n",
              "      <td>32527</td>\n",
              "    </tr>\n",
              "    <tr>\n",
              "      <th>3</th>\n",
              "      <td>02131</td>\n",
              "      <td>100 Percent Delicia Food</td>\n",
              "      <td>32527</td>\n",
              "    </tr>\n",
              "    <tr>\n",
              "      <th>4</th>\n",
              "      <td>02131</td>\n",
              "      <td>100 Percent Delicia Food</td>\n",
              "      <td>32527</td>\n",
              "    </tr>\n",
              "  </tbody>\n",
              "</table>\n",
              "</div>"
            ],
            "text/plain": [
              "     zip              businessname Population\n",
              "0  02131  100 Percent Delicia Food      32527\n",
              "1  02131  100 Percent Delicia Food      32527\n",
              "2  02131  100 Percent Delicia Food      32527\n",
              "3  02131  100 Percent Delicia Food      32527\n",
              "4  02131  100 Percent Delicia Food      32527"
            ]
          },
          "metadata": {
            "tags": []
          },
          "execution_count": 29
        }
      ]
    },
    {
      "cell_type": "markdown",
      "metadata": {
        "id": "bDlmZJaSeGh_",
        "colab_type": "text"
      },
      "source": [
        "Observed number of duplicate rows. Thus dropped those duplicate rows."
      ]
    },
    {
      "cell_type": "code",
      "metadata": {
        "id": "upagvaoxeGiA",
        "colab_type": "code",
        "colab": {}
      },
      "source": [
        "final_df.drop_duplicates(inplace=True)"
      ],
      "execution_count": 0,
      "outputs": []
    },
    {
      "cell_type": "markdown",
      "metadata": {
        "id": "5EUS621TeGiB",
        "colab_type": "text"
      },
      "source": [
        "The final data frame which has zip, population, businessname and no. of complaints per business."
      ]
    },
    {
      "cell_type": "code",
      "metadata": {
        "id": "55MkKw_LeGiC",
        "colab_type": "code",
        "colab": {}
      },
      "source": [
        "final_df=final_df.merge(boston_df.groupby(['businessname']).size().reset_index(name='no_of_complaints'),on='businessname')"
      ],
      "execution_count": 0,
      "outputs": []
    },
    {
      "cell_type": "code",
      "metadata": {
        "id": "DMCslbFjeGiF",
        "colab_type": "code",
        "colab": {
          "base_uri": "https://localhost:8080/",
          "height": 197
        },
        "outputId": "6fc62d7b-f5cc-4165-ceb4-4ceb11d3a9db"
      },
      "source": [
        "final_df.head()"
      ],
      "execution_count": 32,
      "outputs": [
        {
          "output_type": "execute_result",
          "data": {
            "text/html": [
              "<div>\n",
              "<style scoped>\n",
              "    .dataframe tbody tr th:only-of-type {\n",
              "        vertical-align: middle;\n",
              "    }\n",
              "\n",
              "    .dataframe tbody tr th {\n",
              "        vertical-align: top;\n",
              "    }\n",
              "\n",
              "    .dataframe thead th {\n",
              "        text-align: right;\n",
              "    }\n",
              "</style>\n",
              "<table border=\"1\" class=\"dataframe\">\n",
              "  <thead>\n",
              "    <tr style=\"text-align: right;\">\n",
              "      <th></th>\n",
              "      <th>zip</th>\n",
              "      <th>businessname</th>\n",
              "      <th>Population</th>\n",
              "      <th>no_of_complaints</th>\n",
              "    </tr>\n",
              "  </thead>\n",
              "  <tbody>\n",
              "    <tr>\n",
              "      <th>0</th>\n",
              "      <td>02131</td>\n",
              "      <td>100 Percent Delicia Food</td>\n",
              "      <td>32527</td>\n",
              "      <td>168</td>\n",
              "    </tr>\n",
              "    <tr>\n",
              "      <th>1</th>\n",
              "      <td>02131</td>\n",
              "      <td>4 Brothers Market</td>\n",
              "      <td>32527</td>\n",
              "      <td>1</td>\n",
              "    </tr>\n",
              "    <tr>\n",
              "      <th>2</th>\n",
              "      <td>02131</td>\n",
              "      <td>7 Star St. Bistro/Astro Diner/Rozzie Ramen</td>\n",
              "      <td>32527</td>\n",
              "      <td>106</td>\n",
              "    </tr>\n",
              "    <tr>\n",
              "      <th>3</th>\n",
              "      <td>02131</td>\n",
              "      <td>753 South</td>\n",
              "      <td>32527</td>\n",
              "      <td>37</td>\n",
              "    </tr>\n",
              "    <tr>\n",
              "      <th>4</th>\n",
              "      <td>02131</td>\n",
              "      <td>Alex Liquors</td>\n",
              "      <td>32527</td>\n",
              "      <td>2</td>\n",
              "    </tr>\n",
              "  </tbody>\n",
              "</table>\n",
              "</div>"
            ],
            "text/plain": [
              "     zip  ... no_of_complaints\n",
              "0  02131  ...              168\n",
              "1  02131  ...                1\n",
              "2  02131  ...              106\n",
              "3  02131  ...               37\n",
              "4  02131  ...                2\n",
              "\n",
              "[5 rows x 4 columns]"
            ]
          },
          "metadata": {
            "tags": []
          },
          "execution_count": 32
        }
      ]
    },
    {
      "cell_type": "code",
      "metadata": {
        "id": "muJj-LTKeGiI",
        "colab_type": "code",
        "colab": {
          "base_uri": "https://localhost:8080/",
          "height": 197
        },
        "outputId": "49aa0c53-0592-45d8-a101-4655184add69"
      },
      "source": [
        "final_df.tail()"
      ],
      "execution_count": 33,
      "outputs": [
        {
          "output_type": "execute_result",
          "data": {
            "text/html": [
              "<div>\n",
              "<style scoped>\n",
              "    .dataframe tbody tr th:only-of-type {\n",
              "        vertical-align: middle;\n",
              "    }\n",
              "\n",
              "    .dataframe tbody tr th {\n",
              "        vertical-align: top;\n",
              "    }\n",
              "\n",
              "    .dataframe thead th {\n",
              "        text-align: right;\n",
              "    }\n",
              "</style>\n",
              "<table border=\"1\" class=\"dataframe\">\n",
              "  <thead>\n",
              "    <tr style=\"text-align: right;\">\n",
              "      <th></th>\n",
              "      <th>zip</th>\n",
              "      <th>businessname</th>\n",
              "      <th>Population</th>\n",
              "      <th>no_of_complaints</th>\n",
              "    </tr>\n",
              "  </thead>\n",
              "  <tbody>\n",
              "    <tr>\n",
              "      <th>6604</th>\n",
              "      <td>02163</td>\n",
              "      <td>Harvard Business School Interim Dining</td>\n",
              "      <td>1191</td>\n",
              "      <td>2</td>\n",
              "    </tr>\n",
              "    <tr>\n",
              "      <th>6605</th>\n",
              "      <td>02163</td>\n",
              "      <td>Ruth Mulan Chu Chao Center</td>\n",
              "      <td>1191</td>\n",
              "      <td>11</td>\n",
              "    </tr>\n",
              "    <tr>\n",
              "      <th>6606</th>\n",
              "      <td>02163</td>\n",
              "      <td>SPANGLER STUDENT CENTER</td>\n",
              "      <td>1191</td>\n",
              "      <td>138</td>\n",
              "    </tr>\n",
              "    <tr>\n",
              "      <th>6607</th>\n",
              "      <td>02140</td>\n",
              "      <td>CVS No. 1264</td>\n",
              "      <td>17003</td>\n",
              "      <td>100</td>\n",
              "    </tr>\n",
              "    <tr>\n",
              "      <th>6608</th>\n",
              "      <td>02050</td>\n",
              "      <td>Macy's East</td>\n",
              "      <td>24828</td>\n",
              "      <td>12</td>\n",
              "    </tr>\n",
              "  </tbody>\n",
              "</table>\n",
              "</div>"
            ],
            "text/plain": [
              "        zip  ... no_of_complaints\n",
              "6604  02163  ...                2\n",
              "6605  02163  ...               11\n",
              "6606  02163  ...              138\n",
              "6607  02140  ...              100\n",
              "6608  02050  ...               12\n",
              "\n",
              "[5 rows x 4 columns]"
            ]
          },
          "metadata": {
            "tags": []
          },
          "execution_count": 33
        }
      ]
    },
    {
      "cell_type": "markdown",
      "metadata": {
        "id": "WqSECvF0eGiK",
        "colab_type": "text"
      },
      "source": [
        "New dataframe which has the total number of complaints per zip and the population of that zip code."
      ]
    },
    {
      "cell_type": "code",
      "metadata": {
        "id": "Fe86KX-FeGiK",
        "colab_type": "code",
        "colab": {}
      },
      "source": [
        "complaints_df=pd.DataFrame(final_df.groupby(['zip'])['no_of_complaints'].sum())\n",
        "complaints_df.reset_index(level=['zip'],inplace=True) \n",
        "complaints_df=complaints_df.merge(final_df[['Population','zip']],on='zip')"
      ],
      "execution_count": 0,
      "outputs": []
    },
    {
      "cell_type": "code",
      "metadata": {
        "id": "HTPNL4vleGiN",
        "colab_type": "code",
        "colab": {
          "base_uri": "https://localhost:8080/",
          "height": 33
        },
        "outputId": "5a4e8def-786f-468b-d683-bb749434169b"
      },
      "source": [
        "complaints_df.columns"
      ],
      "execution_count": 35,
      "outputs": [
        {
          "output_type": "execute_result",
          "data": {
            "text/plain": [
              "Index(['zip', 'no_of_complaints', 'Population'], dtype='object')"
            ]
          },
          "metadata": {
            "tags": []
          },
          "execution_count": 35
        }
      ]
    },
    {
      "cell_type": "code",
      "metadata": {
        "id": "GlefxGoReGiP",
        "colab_type": "code",
        "colab": {
          "base_uri": "https://localhost:8080/",
          "height": 197
        },
        "outputId": "3a472e17-8371-44ff-de51-72ecb5db426b"
      },
      "source": [
        "complaints_df.head()"
      ],
      "execution_count": 36,
      "outputs": [
        {
          "output_type": "execute_result",
          "data": {
            "text/html": [
              "<div>\n",
              "<style scoped>\n",
              "    .dataframe tbody tr th:only-of-type {\n",
              "        vertical-align: middle;\n",
              "    }\n",
              "\n",
              "    .dataframe tbody tr th {\n",
              "        vertical-align: top;\n",
              "    }\n",
              "\n",
              "    .dataframe thead th {\n",
              "        text-align: right;\n",
              "    }\n",
              "</style>\n",
              "<table border=\"1\" class=\"dataframe\">\n",
              "  <thead>\n",
              "    <tr style=\"text-align: right;\">\n",
              "      <th></th>\n",
              "      <th>zip</th>\n",
              "      <th>no_of_complaints</th>\n",
              "      <th>Population</th>\n",
              "    </tr>\n",
              "  </thead>\n",
              "  <tbody>\n",
              "    <tr>\n",
              "      <th>0</th>\n",
              "      <td>02050</td>\n",
              "      <td>12</td>\n",
              "      <td>24828</td>\n",
              "    </tr>\n",
              "    <tr>\n",
              "      <th>1</th>\n",
              "      <td>02108</td>\n",
              "      <td>25333</td>\n",
              "      <td>3446</td>\n",
              "    </tr>\n",
              "    <tr>\n",
              "      <th>2</th>\n",
              "      <td>02108</td>\n",
              "      <td>25333</td>\n",
              "      <td>3446</td>\n",
              "    </tr>\n",
              "    <tr>\n",
              "      <th>3</th>\n",
              "      <td>02108</td>\n",
              "      <td>25333</td>\n",
              "      <td>3446</td>\n",
              "    </tr>\n",
              "    <tr>\n",
              "      <th>4</th>\n",
              "      <td>02108</td>\n",
              "      <td>25333</td>\n",
              "      <td>3446</td>\n",
              "    </tr>\n",
              "  </tbody>\n",
              "</table>\n",
              "</div>"
            ],
            "text/plain": [
              "     zip  no_of_complaints Population\n",
              "0  02050                12      24828\n",
              "1  02108             25333       3446\n",
              "2  02108             25333       3446\n",
              "3  02108             25333       3446\n",
              "4  02108             25333       3446"
            ]
          },
          "metadata": {
            "tags": []
          },
          "execution_count": 36
        }
      ]
    },
    {
      "cell_type": "code",
      "metadata": {
        "id": "AN-kYIpeeGiR",
        "colab_type": "code",
        "colab": {}
      },
      "source": [
        "# Dropping the duplicate rows.\n",
        "complaints_df.drop_duplicates(inplace=True)"
      ],
      "execution_count": 0,
      "outputs": []
    },
    {
      "cell_type": "code",
      "metadata": {
        "id": "h6lTg1zJeGiT",
        "colab_type": "code",
        "colab": {
          "base_uri": "https://localhost:8080/",
          "height": 83
        },
        "outputId": "039f905d-e634-47be-e125-34bf2f0ff056"
      },
      "source": [
        "complaints_df.dtypes"
      ],
      "execution_count": 38,
      "outputs": [
        {
          "output_type": "execute_result",
          "data": {
            "text/plain": [
              "zip                 object\n",
              "no_of_complaints     int64\n",
              "Population          object\n",
              "dtype: object"
            ]
          },
          "metadata": {
            "tags": []
          },
          "execution_count": 38
        }
      ]
    },
    {
      "cell_type": "markdown",
      "metadata": {
        "id": "-X65FNr3eGiW",
        "colab_type": "text"
      },
      "source": [
        "As the type of zip and population is object, need to convert it to integer type to plot the graph"
      ]
    },
    {
      "cell_type": "code",
      "metadata": {
        "id": "890HcWuWeGiW",
        "colab_type": "code",
        "colab": {}
      },
      "source": [
        "complaints_df['zip']=complaints_df['zip'].astype('int')\n",
        "complaints_df['Population']=complaints_df['Population'].astype('int')"
      ],
      "execution_count": 0,
      "outputs": []
    },
    {
      "cell_type": "markdown",
      "metadata": {
        "id": "jQtKQyn3eGiY",
        "colab_type": "text"
      },
      "source": [
        "# Hypothesis:\n",
        "If the population is more, there would be more number of complaints/inspections."
      ]
    },
    {
      "cell_type": "markdown",
      "metadata": {
        "id": "4Y0yo0iqeGiZ",
        "colab_type": "text"
      },
      "source": [
        "# Number of compliants per zip code versus population per zip code\n"
      ]
    },
    {
      "cell_type": "code",
      "metadata": {
        "scrolled": true,
        "id": "WIShwHBCeGiZ",
        "colab_type": "code",
        "colab": {
          "base_uri": "https://localhost:8080/",
          "height": 316
        },
        "outputId": "555ce3ac-4f95-4876-9f0d-74717bbd57d6"
      },
      "source": [
        "plt.scatter(complaints_df['Population'],complaints_df['no_of_complaints'])\n",
        "plt.xticks(rotation='vertical')\n",
        "#plt.figure(figsize=(100,200))\n",
        "plt.xlabel('Population')\n",
        "plt.ylabel('No of Complaints')\n",
        "plt.title(\"Number of complaints versus population\")\n",
        "plt.show()"
      ],
      "execution_count": 40,
      "outputs": [
        {
          "output_type": "display_data",
          "data": {
            "image/png": "[encoded data removed]",
            "text/plain": [
              "<Figure size 432x288 with 1 Axes>"
            ]
          },
          "metadata": {
            "tags": [],
            "needs_background": "light"
          }
        }
      ]
    },
    {
      "cell_type": "markdown",
      "metadata": {
        "id": "oR5uPeG6eGid",
        "colab_type": "text"
      },
      "source": [
        "# (In)Validation of hypothesis:\n",
        "It is evident from the graph that there is no relationship between the population and number of complaints. Thus, it is evident that the hypothesis is invalid. "
      ]
    },
    {
      "cell_type": "markdown",
      "metadata": {
        "id": "-dK_Le4weGif",
        "colab_type": "text"
      },
      "source": [
        "# References:\n",
        "1) https://stackoverflow.com/questions/35738199/matplotlib-pyplot-hist-very-slow\n",
        "\n",
        "2) https://stackoverflow.com/questions/20461165/how-to-convert-index-of-a-pandas-dataframe-into-a-column\n",
        "\n",
        "3) https://stackoverflow.com/questions/49291740/delete-rows-if-there-are-null-values-in-a-specific-column-in-pandas-dataframe\n",
        "\n",
        "4) https://www.dataquest.io/blog/pandas-big-data/"
      ]
    },
    {
      "cell_type": "markdown",
      "metadata": {
        "id": "AUePXqByeGig",
        "colab_type": "text"
      },
      "source": [
        ""
      ]
    },
    {
      "cell_type": "code",
      "metadata": {
        "id": "9X2GUOY0eGig",
        "colab_type": "code",
        "colab": {}
      },
      "source": [
        ""
      ],
      "execution_count": 0,
      "outputs": []
    }
  ]
}